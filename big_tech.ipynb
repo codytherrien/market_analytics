{
 "metadata": {
  "language_info": {
   "codemirror_mode": {
    "name": "ipython",
    "version": 3
   },
   "file_extension": ".py",
   "mimetype": "text/x-python",
   "name": "python",
   "nbconvert_exporter": "python",
   "pygments_lexer": "ipython3",
   "version": "3.9.4"
  },
  "orig_nbformat": 2,
  "kernelspec": {
   "name": "python394jvsc74a57bd086ecd5a7f372b50973b73dfc5ddb43619aa326d99d12514e7c55a30c0e82c9c5",
   "display_name": "Python 3.9.4 64-bit"
  },
  "metadata": {
   "interpreter": {
    "hash": "86ecd5a7f372b50973b73dfc5ddb43619aa326d99d12514e7c55a30c0e82c9c5"
   }
  }
 },
 "nbformat": 4,
 "nbformat_minor": 2,
 "cells": [
  {
   "source": [
    "# Simple Stock Perfomance for big tech stocks"
   ],
   "cell_type": "markdown",
   "metadata": {}
  },
  {
   "cell_type": "code",
   "execution_count": 1,
   "metadata": {},
   "outputs": [],
   "source": [
    "import yfinance as yf\n",
    "import pandas as pd\n",
    "import datetime"
   ]
  },
  {
   "cell_type": "code",
   "execution_count": 2,
   "metadata": {},
   "outputs": [
    {
     "output_type": "execute_result",
     "data": {
      "text/plain": [
       "'2020-05-24'"
      ]
     },
     "metadata": {},
     "execution_count": 2
    }
   ],
   "source": [
    "# List of stocks compaired\n",
    "stock_list = ['AAPL', 'GOOGL', 'AMZN', 'FB', 'TSLA', 'MSFT']\n",
    "\n",
    "# Finds date one year ago to pull data from yfinance\n",
    "last_year = (datetime.datetime.today() - datetime.timedelta(days=365)).strftime('%Y-%m-%d')\n",
    "last_year"
   ]
  },
  {
   "cell_type": "code",
   "execution_count": 3,
   "metadata": {},
   "outputs": [
    {
     "output_type": "execute_result",
     "data": {
      "text/plain": [
       "                  AAPL        GOOGL         AMZN          FB        TSLA  \\\n",
       "Date                                                                       \n",
       "2020-05-26   78.652542  1421.369995  2421.860107  232.199997  163.774002   \n",
       "2020-05-27   78.995224  1420.280029  2410.389893  229.139999  164.046005   \n",
       "2020-05-28   79.029984  1418.239990  2401.100098  225.460007  161.162003   \n",
       "2020-05-29   78.953018  1433.520020  2442.370117  225.089996  167.000000   \n",
       "2020-06-01   79.923965  1434.869995  2471.040039  231.910004  179.619995   \n",
       "...                ...          ...          ...         ...         ...   \n",
       "2021-05-18  124.849998  2262.469971  3232.280029  309.959991  577.869995   \n",
       "2021-05-19  124.690002  2271.500000  3231.800049  313.589996  563.460022   \n",
       "2021-05-20  127.309998  2306.949951  3247.679932  318.609985  586.780029   \n",
       "2021-05-21  125.430000  2294.129883  3203.080078  316.230011  580.880005   \n",
       "2021-05-24  127.485001  2356.254883  3251.979980  324.779999  598.330017   \n",
       "\n",
       "                  MSFT  \n",
       "Date                    \n",
       "2020-05-26  179.828796  \n",
       "2020-05-27  180.066498  \n",
       "2020-05-28  179.660416  \n",
       "2020-05-29  181.492691  \n",
       "2020-06-01  181.076721  \n",
       "...                ...  \n",
       "2021-05-18  242.520004  \n",
       "2021-05-19  243.119995  \n",
       "2021-05-20  246.479996  \n",
       "2021-05-21  245.169998  \n",
       "2021-05-24  250.300003  \n",
       "\n",
       "[252 rows x 6 columns]"
      ],
      "text/html": "<div>\n<style scoped>\n    .dataframe tbody tr th:only-of-type {\n        vertical-align: middle;\n    }\n\n    .dataframe tbody tr th {\n        vertical-align: top;\n    }\n\n    .dataframe thead th {\n        text-align: right;\n    }\n</style>\n<table border=\"1\" class=\"dataframe\">\n  <thead>\n    <tr style=\"text-align: right;\">\n      <th></th>\n      <th>AAPL</th>\n      <th>GOOGL</th>\n      <th>AMZN</th>\n      <th>FB</th>\n      <th>TSLA</th>\n      <th>MSFT</th>\n    </tr>\n    <tr>\n      <th>Date</th>\n      <th></th>\n      <th></th>\n      <th></th>\n      <th></th>\n      <th></th>\n      <th></th>\n    </tr>\n  </thead>\n  <tbody>\n    <tr>\n      <th>2020-05-26</th>\n      <td>78.652542</td>\n      <td>1421.369995</td>\n      <td>2421.860107</td>\n      <td>232.199997</td>\n      <td>163.774002</td>\n      <td>179.828796</td>\n    </tr>\n    <tr>\n      <th>2020-05-27</th>\n      <td>78.995224</td>\n      <td>1420.280029</td>\n      <td>2410.389893</td>\n      <td>229.139999</td>\n      <td>164.046005</td>\n      <td>180.066498</td>\n    </tr>\n    <tr>\n      <th>2020-05-28</th>\n      <td>79.029984</td>\n      <td>1418.239990</td>\n      <td>2401.100098</td>\n      <td>225.460007</td>\n      <td>161.162003</td>\n      <td>179.660416</td>\n    </tr>\n    <tr>\n      <th>2020-05-29</th>\n      <td>78.953018</td>\n      <td>1433.520020</td>\n      <td>2442.370117</td>\n      <td>225.089996</td>\n      <td>167.000000</td>\n      <td>181.492691</td>\n    </tr>\n    <tr>\n      <th>2020-06-01</th>\n      <td>79.923965</td>\n      <td>1434.869995</td>\n      <td>2471.040039</td>\n      <td>231.910004</td>\n      <td>179.619995</td>\n      <td>181.076721</td>\n    </tr>\n    <tr>\n      <th>...</th>\n      <td>...</td>\n      <td>...</td>\n      <td>...</td>\n      <td>...</td>\n      <td>...</td>\n      <td>...</td>\n    </tr>\n    <tr>\n      <th>2021-05-18</th>\n      <td>124.849998</td>\n      <td>2262.469971</td>\n      <td>3232.280029</td>\n      <td>309.959991</td>\n      <td>577.869995</td>\n      <td>242.520004</td>\n    </tr>\n    <tr>\n      <th>2021-05-19</th>\n      <td>124.690002</td>\n      <td>2271.500000</td>\n      <td>3231.800049</td>\n      <td>313.589996</td>\n      <td>563.460022</td>\n      <td>243.119995</td>\n    </tr>\n    <tr>\n      <th>2021-05-20</th>\n      <td>127.309998</td>\n      <td>2306.949951</td>\n      <td>3247.679932</td>\n      <td>318.609985</td>\n      <td>586.780029</td>\n      <td>246.479996</td>\n    </tr>\n    <tr>\n      <th>2021-05-21</th>\n      <td>125.430000</td>\n      <td>2294.129883</td>\n      <td>3203.080078</td>\n      <td>316.230011</td>\n      <td>580.880005</td>\n      <td>245.169998</td>\n    </tr>\n    <tr>\n      <th>2021-05-24</th>\n      <td>127.485001</td>\n      <td>2356.254883</td>\n      <td>3251.979980</td>\n      <td>324.779999</td>\n      <td>598.330017</td>\n      <td>250.300003</td>\n    </tr>\n  </tbody>\n</table>\n<p>252 rows × 6 columns</p>\n</div>"
     },
     "metadata": {},
     "execution_count": 3
    }
   ],
   "source": [
    "stock_dfs = {}\n",
    "value_df = None\n",
    "# Pulling stocks from yfinance and storing closing values in value_df\n",
    "for stock in stock_list:\n",
    "    stock_dfs[stock] = yf.Ticker(stock).history(start=last_year)\n",
    "    stock_dfs[stock].rename(columns={'Close': stock}, inplace=True)\n",
    "    if value_df is None:\n",
    "        value_df = pd.DataFrame(data=stock_dfs[stock][stock])\n",
    "    else:\n",
    "        value_df[stock] = stock_dfs[stock][stock]\n",
    "value_df"
   ]
  },
  {
   "cell_type": "code",
   "execution_count": 4,
   "metadata": {},
   "outputs": [
    {
     "output_type": "execute_result",
     "data": {
      "text/plain": [
       "Date    2020-05-26   2020-11-20   2021-02-24   2021-04-27   2021-05-24\n",
       "AAPL     78.652542   116.966240   125.137444   134.162109   127.485001\n",
       "GOOGL  1421.369995  1736.380005  2083.810059  2290.979980  2356.254883\n",
       "AMZN   2421.860107  3099.399902  3159.530029  3417.429932  3251.979980\n",
       "FB      232.199997   269.700012   264.309998   303.570007   324.779999\n",
       "TSLA    163.774002   489.609985   742.020020   704.739990   598.330017\n",
       "MSFT    179.828796   209.422974   234.009659   261.366486   250.300003"
      ],
      "text/html": "<div>\n<style scoped>\n    .dataframe tbody tr th:only-of-type {\n        vertical-align: middle;\n    }\n\n    .dataframe tbody tr th {\n        vertical-align: top;\n    }\n\n    .dataframe thead th {\n        text-align: right;\n    }\n</style>\n<table border=\"1\" class=\"dataframe\">\n  <thead>\n    <tr style=\"text-align: right;\">\n      <th>Date</th>\n      <th>2020-05-26</th>\n      <th>2020-11-20</th>\n      <th>2021-02-24</th>\n      <th>2021-04-27</th>\n      <th>2021-05-24</th>\n    </tr>\n  </thead>\n  <tbody>\n    <tr>\n      <th>AAPL</th>\n      <td>78.652542</td>\n      <td>116.966240</td>\n      <td>125.137444</td>\n      <td>134.162109</td>\n      <td>127.485001</td>\n    </tr>\n    <tr>\n      <th>GOOGL</th>\n      <td>1421.369995</td>\n      <td>1736.380005</td>\n      <td>2083.810059</td>\n      <td>2290.979980</td>\n      <td>2356.254883</td>\n    </tr>\n    <tr>\n      <th>AMZN</th>\n      <td>2421.860107</td>\n      <td>3099.399902</td>\n      <td>3159.530029</td>\n      <td>3417.429932</td>\n      <td>3251.979980</td>\n    </tr>\n    <tr>\n      <th>FB</th>\n      <td>232.199997</td>\n      <td>269.700012</td>\n      <td>264.309998</td>\n      <td>303.570007</td>\n      <td>324.779999</td>\n    </tr>\n    <tr>\n      <th>TSLA</th>\n      <td>163.774002</td>\n      <td>489.609985</td>\n      <td>742.020020</td>\n      <td>704.739990</td>\n      <td>598.330017</td>\n    </tr>\n    <tr>\n      <th>MSFT</th>\n      <td>179.828796</td>\n      <td>209.422974</td>\n      <td>234.009659</td>\n      <td>261.366486</td>\n      <td>250.300003</td>\n    </tr>\n  </tbody>\n</table>\n</div>"
     },
     "metadata": {},
     "execution_count": 4
    }
   ],
   "source": [
    "# only keeping values from 1 year ago, 6 months ago, 1 quarter ago, and 1 month ago\n",
    "value_df = value_df.iloc[[\n",
    "    0, \n",
    "    len(value_df)//2, \n",
    "    3*len(value_df)//4,\n",
    "    -20,\n",
    "    -1\n",
    "]]\n",
    "value_df = value_df.T\n",
    "value_df"
   ]
  },
  {
   "cell_type": "code",
   "execution_count": 5,
   "metadata": {},
   "outputs": [
    {
     "output_type": "execute_result",
     "data": {
      "text/plain": [
       "Date   2020-05-26  2020-11-20  2021-02-24  2021-04-27   2021-05-24\n",
       "AAPL     0.620863    0.089930    0.018760   -0.049769   127.485001\n",
       "GOOGL    0.657735    0.356993    0.130744    0.028492  2356.254883\n",
       "AMZN     0.342761    0.049229    0.029261   -0.048414  3251.979980\n",
       "FB       0.398708    0.204227    0.228784    0.069869   324.779999\n",
       "TSLA     2.653388    0.222054   -0.193647   -0.150992   598.330017\n",
       "MSFT     0.391879    0.195189    0.069614   -0.042341   250.300003"
      ],
      "text/html": "<div>\n<style scoped>\n    .dataframe tbody tr th:only-of-type {\n        vertical-align: middle;\n    }\n\n    .dataframe tbody tr th {\n        vertical-align: top;\n    }\n\n    .dataframe thead th {\n        text-align: right;\n    }\n</style>\n<table border=\"1\" class=\"dataframe\">\n  <thead>\n    <tr style=\"text-align: right;\">\n      <th>Date</th>\n      <th>2020-05-26</th>\n      <th>2020-11-20</th>\n      <th>2021-02-24</th>\n      <th>2021-04-27</th>\n      <th>2021-05-24</th>\n    </tr>\n  </thead>\n  <tbody>\n    <tr>\n      <th>AAPL</th>\n      <td>0.620863</td>\n      <td>0.089930</td>\n      <td>0.018760</td>\n      <td>-0.049769</td>\n      <td>127.485001</td>\n    </tr>\n    <tr>\n      <th>GOOGL</th>\n      <td>0.657735</td>\n      <td>0.356993</td>\n      <td>0.130744</td>\n      <td>0.028492</td>\n      <td>2356.254883</td>\n    </tr>\n    <tr>\n      <th>AMZN</th>\n      <td>0.342761</td>\n      <td>0.049229</td>\n      <td>0.029261</td>\n      <td>-0.048414</td>\n      <td>3251.979980</td>\n    </tr>\n    <tr>\n      <th>FB</th>\n      <td>0.398708</td>\n      <td>0.204227</td>\n      <td>0.228784</td>\n      <td>0.069869</td>\n      <td>324.779999</td>\n    </tr>\n    <tr>\n      <th>TSLA</th>\n      <td>2.653388</td>\n      <td>0.222054</td>\n      <td>-0.193647</td>\n      <td>-0.150992</td>\n      <td>598.330017</td>\n    </tr>\n    <tr>\n      <th>MSFT</th>\n      <td>0.391879</td>\n      <td>0.195189</td>\n      <td>0.069614</td>\n      <td>-0.042341</td>\n      <td>250.300003</td>\n    </tr>\n  </tbody>\n</table>\n</div>"
     },
     "metadata": {},
     "execution_count": 5
    }
   ],
   "source": [
    "for i in range(4):\n",
    "    value_df.iloc[:,i] = (value_df.iloc[:,4] / value_df.iloc[:,i]) - 1\n",
    "value_df"
   ]
  },
  {
   "cell_type": "code",
   "execution_count": 6,
   "metadata": {},
   "outputs": [
    {
     "output_type": "execute_result",
     "data": {
      "text/plain": [
       "Date   2020-05-26 00:00:00  2020-11-20 00:00:00  2021-02-24 00:00:00  \\\n",
       "AMZN              0.342761             0.049229             0.029261   \n",
       "MSFT              0.391879             0.195189             0.069614   \n",
       "AAPL              0.620863             0.089930             0.018760   \n",
       "FB                0.398708             0.204227             0.228784   \n",
       "GOOGL             0.657735             0.356993             0.130744   \n",
       "TSLA              2.653388             0.222054            -0.193647   \n",
       "\n",
       "Date   2021-04-27 00:00:00  2021-05-24 00:00:00  Sum Changes  \n",
       "AMZN             -0.048414          3251.979980     0.421251  \n",
       "MSFT             -0.042341           250.300003     0.656682  \n",
       "AAPL             -0.049769           127.485001     0.729553  \n",
       "FB                0.069869           324.779999     0.831719  \n",
       "GOOGL             0.028492          2356.254883     1.145471  \n",
       "TSLA             -0.150992           598.330017     2.681796  "
      ],
      "text/html": "<div>\n<style scoped>\n    .dataframe tbody tr th:only-of-type {\n        vertical-align: middle;\n    }\n\n    .dataframe tbody tr th {\n        vertical-align: top;\n    }\n\n    .dataframe thead th {\n        text-align: right;\n    }\n</style>\n<table border=\"1\" class=\"dataframe\">\n  <thead>\n    <tr style=\"text-align: right;\">\n      <th>Date</th>\n      <th>2020-05-26 00:00:00</th>\n      <th>2020-11-20 00:00:00</th>\n      <th>2021-02-24 00:00:00</th>\n      <th>2021-04-27 00:00:00</th>\n      <th>2021-05-24 00:00:00</th>\n      <th>Sum Changes</th>\n    </tr>\n  </thead>\n  <tbody>\n    <tr>\n      <th>AMZN</th>\n      <td>0.342761</td>\n      <td>0.049229</td>\n      <td>0.029261</td>\n      <td>-0.048414</td>\n      <td>3251.979980</td>\n      <td>0.421251</td>\n    </tr>\n    <tr>\n      <th>MSFT</th>\n      <td>0.391879</td>\n      <td>0.195189</td>\n      <td>0.069614</td>\n      <td>-0.042341</td>\n      <td>250.300003</td>\n      <td>0.656682</td>\n    </tr>\n    <tr>\n      <th>AAPL</th>\n      <td>0.620863</td>\n      <td>0.089930</td>\n      <td>0.018760</td>\n      <td>-0.049769</td>\n      <td>127.485001</td>\n      <td>0.729553</td>\n    </tr>\n    <tr>\n      <th>FB</th>\n      <td>0.398708</td>\n      <td>0.204227</td>\n      <td>0.228784</td>\n      <td>0.069869</td>\n      <td>324.779999</td>\n      <td>0.831719</td>\n    </tr>\n    <tr>\n      <th>GOOGL</th>\n      <td>0.657735</td>\n      <td>0.356993</td>\n      <td>0.130744</td>\n      <td>0.028492</td>\n      <td>2356.254883</td>\n      <td>1.145471</td>\n    </tr>\n    <tr>\n      <th>TSLA</th>\n      <td>2.653388</td>\n      <td>0.222054</td>\n      <td>-0.193647</td>\n      <td>-0.150992</td>\n      <td>598.330017</td>\n      <td>2.681796</td>\n    </tr>\n  </tbody>\n</table>\n</div>"
     },
     "metadata": {},
     "execution_count": 6
    }
   ],
   "source": [
    "# calculating a rolling average or sorts\n",
    "value_df['Sum Changes'] = value_df.iloc[:,0:3].sum(axis=1)\n",
    "value_df.sort_values(by='Sum Changes')"
   ]
  },
  {
   "cell_type": "code",
   "execution_count": null,
   "metadata": {},
   "outputs": [],
   "source": []
  }
 ]
}