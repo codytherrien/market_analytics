{
 "metadata": {
  "language_info": {
   "codemirror_mode": {
    "name": "ipython",
    "version": 3
   },
   "file_extension": ".py",
   "mimetype": "text/x-python",
   "name": "python",
   "nbconvert_exporter": "python",
   "pygments_lexer": "ipython3",
   "version": "3.9.4"
  },
  "orig_nbformat": 2,
  "kernelspec": {
   "name": "python394jvsc74a57bd086ecd5a7f372b50973b73dfc5ddb43619aa326d99d12514e7c55a30c0e82c9c5",
   "display_name": "Python 3.9.4 64-bit"
  },
  "metadata": {
   "interpreter": {
    "hash": "86ecd5a7f372b50973b73dfc5ddb43619aa326d99d12514e7c55a30c0e82c9c5"
   }
  }
 },
 "nbformat": 4,
 "nbformat_minor": 2,
 "cells": [
  {
   "source": [
    "# Simple Stock Perfomance for big tech stocks"
   ],
   "cell_type": "markdown",
   "metadata": {}
  },
  {
   "cell_type": "code",
   "execution_count": 1,
   "metadata": {},
   "outputs": [],
   "source": [
    "import yfinance as yf\n",
    "import pandas as pd\n",
    "import datetime"
   ]
  },
  {
   "cell_type": "code",
   "execution_count": 2,
   "metadata": {},
   "outputs": [
    {
     "output_type": "execute_result",
     "data": {
      "text/plain": [
       "'2020-05-30'"
      ]
     },
     "metadata": {},
     "execution_count": 2
    }
   ],
   "source": [
    "# List of stocks compaired\n",
    "stock_list = ['AAPL', 'GOOGL', 'AMZN', 'FB', 'TSLA', 'MSFT']\n",
    "\n",
    "# Finds date one year ago to pull data from yfinance\n",
    "last_year = (datetime.datetime.today() - datetime.timedelta(days=365)).strftime('%Y-%m-%d')\n",
    "last_year"
   ]
  },
  {
   "cell_type": "code",
   "execution_count": 3,
   "metadata": {},
   "outputs": [
    {
     "output_type": "execute_result",
     "data": {
      "text/plain": [
       "                  AAPL        GOOGL         AMZN          FB        TSLA  \\\n",
       "Date                                                                       \n",
       "2020-06-01   79.923965  1434.869995  2471.040039  231.910004  179.619995   \n",
       "2020-06-02   80.293968  1442.310059  2472.409912  232.720001  176.311996   \n",
       "2020-06-03   80.735992  1439.250000  2478.399902  230.160004  176.591995   \n",
       "2020-06-04   80.040680  1414.300049  2460.600098  226.289993  172.876007   \n",
       "2020-06-05   82.320328  1440.020020  2483.000000  230.770004  177.132004   \n",
       "...                ...          ...          ...         ...         ...   \n",
       "2021-05-24  127.099998  2361.040039  3244.989990  324.630005  606.440002   \n",
       "2021-05-25  126.900002  2362.870117  3259.050049  327.790009  604.690002   \n",
       "2021-05-26  126.849998  2380.310059  3265.159912  327.660004  619.130005   \n",
       "2021-05-27  125.279999  2362.679932  3230.110107  332.750000  630.849976   \n",
       "2021-05-28  124.610001  2356.850098  3223.070068  328.730011  625.219971   \n",
       "\n",
       "                  MSFT  \n",
       "Date                    \n",
       "2020-06-01  181.076721  \n",
       "2020-06-02  183.136765  \n",
       "2020-06-03  183.582458  \n",
       "2020-06-04  181.165863  \n",
       "2020-06-05  185.404800  \n",
       "...                ...  \n",
       "2021-05-24  250.779999  \n",
       "2021-05-25  251.720001  \n",
       "2021-05-26  251.490005  \n",
       "2021-05-27  249.309998  \n",
       "2021-05-28  249.679993  \n",
       "\n",
       "[252 rows x 6 columns]"
      ],
      "text/html": "<div>\n<style scoped>\n    .dataframe tbody tr th:only-of-type {\n        vertical-align: middle;\n    }\n\n    .dataframe tbody tr th {\n        vertical-align: top;\n    }\n\n    .dataframe thead th {\n        text-align: right;\n    }\n</style>\n<table border=\"1\" class=\"dataframe\">\n  <thead>\n    <tr style=\"text-align: right;\">\n      <th></th>\n      <th>AAPL</th>\n      <th>GOOGL</th>\n      <th>AMZN</th>\n      <th>FB</th>\n      <th>TSLA</th>\n      <th>MSFT</th>\n    </tr>\n    <tr>\n      <th>Date</th>\n      <th></th>\n      <th></th>\n      <th></th>\n      <th></th>\n      <th></th>\n      <th></th>\n    </tr>\n  </thead>\n  <tbody>\n    <tr>\n      <th>2020-06-01</th>\n      <td>79.923965</td>\n      <td>1434.869995</td>\n      <td>2471.040039</td>\n      <td>231.910004</td>\n      <td>179.619995</td>\n      <td>181.076721</td>\n    </tr>\n    <tr>\n      <th>2020-06-02</th>\n      <td>80.293968</td>\n      <td>1442.310059</td>\n      <td>2472.409912</td>\n      <td>232.720001</td>\n      <td>176.311996</td>\n      <td>183.136765</td>\n    </tr>\n    <tr>\n      <th>2020-06-03</th>\n      <td>80.735992</td>\n      <td>1439.250000</td>\n      <td>2478.399902</td>\n      <td>230.160004</td>\n      <td>176.591995</td>\n      <td>183.582458</td>\n    </tr>\n    <tr>\n      <th>2020-06-04</th>\n      <td>80.040680</td>\n      <td>1414.300049</td>\n      <td>2460.600098</td>\n      <td>226.289993</td>\n      <td>172.876007</td>\n      <td>181.165863</td>\n    </tr>\n    <tr>\n      <th>2020-06-05</th>\n      <td>82.320328</td>\n      <td>1440.020020</td>\n      <td>2483.000000</td>\n      <td>230.770004</td>\n      <td>177.132004</td>\n      <td>185.404800</td>\n    </tr>\n    <tr>\n      <th>...</th>\n      <td>...</td>\n      <td>...</td>\n      <td>...</td>\n      <td>...</td>\n      <td>...</td>\n      <td>...</td>\n    </tr>\n    <tr>\n      <th>2021-05-24</th>\n      <td>127.099998</td>\n      <td>2361.040039</td>\n      <td>3244.989990</td>\n      <td>324.630005</td>\n      <td>606.440002</td>\n      <td>250.779999</td>\n    </tr>\n    <tr>\n      <th>2021-05-25</th>\n      <td>126.900002</td>\n      <td>2362.870117</td>\n      <td>3259.050049</td>\n      <td>327.790009</td>\n      <td>604.690002</td>\n      <td>251.720001</td>\n    </tr>\n    <tr>\n      <th>2021-05-26</th>\n      <td>126.849998</td>\n      <td>2380.310059</td>\n      <td>3265.159912</td>\n      <td>327.660004</td>\n      <td>619.130005</td>\n      <td>251.490005</td>\n    </tr>\n    <tr>\n      <th>2021-05-27</th>\n      <td>125.279999</td>\n      <td>2362.679932</td>\n      <td>3230.110107</td>\n      <td>332.750000</td>\n      <td>630.849976</td>\n      <td>249.309998</td>\n    </tr>\n    <tr>\n      <th>2021-05-28</th>\n      <td>124.610001</td>\n      <td>2356.850098</td>\n      <td>3223.070068</td>\n      <td>328.730011</td>\n      <td>625.219971</td>\n      <td>249.679993</td>\n    </tr>\n  </tbody>\n</table>\n<p>252 rows × 6 columns</p>\n</div>"
     },
     "metadata": {},
     "execution_count": 3
    }
   ],
   "source": [
    "stock_dfs = {}\n",
    "value_df = None\n",
    "# Pulling stocks from yfinance and storing closing values in value_df\n",
    "for stock in stock_list:\n",
    "    stock_dfs[stock] = yf.Ticker(stock).history(start=last_year)\n",
    "    stock_dfs[stock].rename(columns={'Close': stock}, inplace=True)\n",
    "    if value_df is None:\n",
    "        value_df = pd.DataFrame(data=stock_dfs[stock][stock])\n",
    "    else:\n",
    "        value_df[stock] = stock_dfs[stock][stock]\n",
    "value_df"
   ]
  },
  {
   "cell_type": "code",
   "execution_count": 4,
   "metadata": {},
   "outputs": [
    {
     "output_type": "execute_result",
     "data": {
      "text/plain": [
       "Date    2020-06-01   2020-11-27   2021-03-02   2021-05-03   2021-05-28\n",
       "AAPL     79.923965   116.218628   124.907837   132.315247   124.610001\n",
       "GOOGL  1434.869995  1787.020020  2064.479980  2343.080078  2356.850098\n",
       "AMZN   2471.040039  3195.340088  3094.530029  3386.489990  3223.070068\n",
       "FB      231.910004   277.809998   259.000000   322.579987   328.730011\n",
       "TSLA    179.619995   585.760010   686.440002   684.900024   625.219971\n",
       "MSFT    181.076721   214.240707   233.331207   251.279770   249.679993"
      ],
      "text/html": "<div>\n<style scoped>\n    .dataframe tbody tr th:only-of-type {\n        vertical-align: middle;\n    }\n\n    .dataframe tbody tr th {\n        vertical-align: top;\n    }\n\n    .dataframe thead th {\n        text-align: right;\n    }\n</style>\n<table border=\"1\" class=\"dataframe\">\n  <thead>\n    <tr style=\"text-align: right;\">\n      <th>Date</th>\n      <th>2020-06-01</th>\n      <th>2020-11-27</th>\n      <th>2021-03-02</th>\n      <th>2021-05-03</th>\n      <th>2021-05-28</th>\n    </tr>\n  </thead>\n  <tbody>\n    <tr>\n      <th>AAPL</th>\n      <td>79.923965</td>\n      <td>116.218628</td>\n      <td>124.907837</td>\n      <td>132.315247</td>\n      <td>124.610001</td>\n    </tr>\n    <tr>\n      <th>GOOGL</th>\n      <td>1434.869995</td>\n      <td>1787.020020</td>\n      <td>2064.479980</td>\n      <td>2343.080078</td>\n      <td>2356.850098</td>\n    </tr>\n    <tr>\n      <th>AMZN</th>\n      <td>2471.040039</td>\n      <td>3195.340088</td>\n      <td>3094.530029</td>\n      <td>3386.489990</td>\n      <td>3223.070068</td>\n    </tr>\n    <tr>\n      <th>FB</th>\n      <td>231.910004</td>\n      <td>277.809998</td>\n      <td>259.000000</td>\n      <td>322.579987</td>\n      <td>328.730011</td>\n    </tr>\n    <tr>\n      <th>TSLA</th>\n      <td>179.619995</td>\n      <td>585.760010</td>\n      <td>686.440002</td>\n      <td>684.900024</td>\n      <td>625.219971</td>\n    </tr>\n    <tr>\n      <th>MSFT</th>\n      <td>181.076721</td>\n      <td>214.240707</td>\n      <td>233.331207</td>\n      <td>251.279770</td>\n      <td>249.679993</td>\n    </tr>\n  </tbody>\n</table>\n</div>"
     },
     "metadata": {},
     "execution_count": 4
    }
   ],
   "source": [
    "# only keeping values from 1 year ago, 6 months ago, 1 quarter ago, and 1 month ago\n",
    "value_df = value_df.iloc[[\n",
    "    0, \n",
    "    len(value_df)//2, \n",
    "    3*len(value_df)//4,\n",
    "    -20,\n",
    "    -1\n",
    "]]\n",
    "value_df = value_df.T\n",
    "value_df"
   ]
  },
  {
   "cell_type": "code",
   "execution_count": 5,
   "metadata": {},
   "outputs": [
    {
     "output_type": "execute_result",
     "data": {
      "text/plain": [
       "Date   2020-06-01  2020-11-27  2021-03-02  2021-05-03   2021-05-28\n",
       "AAPL     0.559107    0.072203   -0.002384   -0.058234   124.610001\n",
       "GOOGL    0.642553    0.318872    0.141619    0.005877  2356.850098\n",
       "AMZN     0.304337    0.008678    0.041538   -0.048256  3223.070068\n",
       "FB       0.417490    0.183291    0.269228    0.019065   328.730011\n",
       "TSLA     2.480793    0.067365   -0.089185   -0.087137   625.219971\n",
       "MSFT     0.378863    0.165418    0.070067   -0.006367   249.679993"
      ],
      "text/html": "<div>\n<style scoped>\n    .dataframe tbody tr th:only-of-type {\n        vertical-align: middle;\n    }\n\n    .dataframe tbody tr th {\n        vertical-align: top;\n    }\n\n    .dataframe thead th {\n        text-align: right;\n    }\n</style>\n<table border=\"1\" class=\"dataframe\">\n  <thead>\n    <tr style=\"text-align: right;\">\n      <th>Date</th>\n      <th>2020-06-01</th>\n      <th>2020-11-27</th>\n      <th>2021-03-02</th>\n      <th>2021-05-03</th>\n      <th>2021-05-28</th>\n    </tr>\n  </thead>\n  <tbody>\n    <tr>\n      <th>AAPL</th>\n      <td>0.559107</td>\n      <td>0.072203</td>\n      <td>-0.002384</td>\n      <td>-0.058234</td>\n      <td>124.610001</td>\n    </tr>\n    <tr>\n      <th>GOOGL</th>\n      <td>0.642553</td>\n      <td>0.318872</td>\n      <td>0.141619</td>\n      <td>0.005877</td>\n      <td>2356.850098</td>\n    </tr>\n    <tr>\n      <th>AMZN</th>\n      <td>0.304337</td>\n      <td>0.008678</td>\n      <td>0.041538</td>\n      <td>-0.048256</td>\n      <td>3223.070068</td>\n    </tr>\n    <tr>\n      <th>FB</th>\n      <td>0.417490</td>\n      <td>0.183291</td>\n      <td>0.269228</td>\n      <td>0.019065</td>\n      <td>328.730011</td>\n    </tr>\n    <tr>\n      <th>TSLA</th>\n      <td>2.480793</td>\n      <td>0.067365</td>\n      <td>-0.089185</td>\n      <td>-0.087137</td>\n      <td>625.219971</td>\n    </tr>\n    <tr>\n      <th>MSFT</th>\n      <td>0.378863</td>\n      <td>0.165418</td>\n      <td>0.070067</td>\n      <td>-0.006367</td>\n      <td>249.679993</td>\n    </tr>\n  </tbody>\n</table>\n</div>"
     },
     "metadata": {},
     "execution_count": 5
    }
   ],
   "source": [
    "for i in range(4):\n",
    "    value_df.iloc[:,i] = (value_df.iloc[:,4] / value_df.iloc[:,i]) - 1\n",
    "value_df"
   ]
  },
  {
   "cell_type": "code",
   "execution_count": 6,
   "metadata": {},
   "outputs": [
    {
     "output_type": "execute_result",
     "data": {
      "text/plain": [
       "Date   2020-06-01 00:00:00  2020-11-27 00:00:00  2021-03-02 00:00:00  \\\n",
       "AMZN              0.304337             0.008678             0.041538   \n",
       "MSFT              0.378863             0.165418             0.070067   \n",
       "AAPL              0.559107             0.072203            -0.002384   \n",
       "FB                0.417490             0.183291             0.269228   \n",
       "GOOGL             0.642553             0.318872             0.141619   \n",
       "TSLA              2.480793             0.067365            -0.089185   \n",
       "\n",
       "Date   2021-05-03 00:00:00  2021-05-28 00:00:00  Sum Changes  \n",
       "AMZN             -0.048256          3223.070068     0.354554  \n",
       "MSFT             -0.006367           249.679993     0.614348  \n",
       "AAPL             -0.058234           124.610001     0.628926  \n",
       "FB                0.019065           328.730011     0.870008  \n",
       "GOOGL             0.005877          2356.850098     1.103044  \n",
       "TSLA             -0.087137           625.219971     2.458973  "
      ],
      "text/html": "<div>\n<style scoped>\n    .dataframe tbody tr th:only-of-type {\n        vertical-align: middle;\n    }\n\n    .dataframe tbody tr th {\n        vertical-align: top;\n    }\n\n    .dataframe thead th {\n        text-align: right;\n    }\n</style>\n<table border=\"1\" class=\"dataframe\">\n  <thead>\n    <tr style=\"text-align: right;\">\n      <th>Date</th>\n      <th>2020-06-01 00:00:00</th>\n      <th>2020-11-27 00:00:00</th>\n      <th>2021-03-02 00:00:00</th>\n      <th>2021-05-03 00:00:00</th>\n      <th>2021-05-28 00:00:00</th>\n      <th>Sum Changes</th>\n    </tr>\n  </thead>\n  <tbody>\n    <tr>\n      <th>AMZN</th>\n      <td>0.304337</td>\n      <td>0.008678</td>\n      <td>0.041538</td>\n      <td>-0.048256</td>\n      <td>3223.070068</td>\n      <td>0.354554</td>\n    </tr>\n    <tr>\n      <th>MSFT</th>\n      <td>0.378863</td>\n      <td>0.165418</td>\n      <td>0.070067</td>\n      <td>-0.006367</td>\n      <td>249.679993</td>\n      <td>0.614348</td>\n    </tr>\n    <tr>\n      <th>AAPL</th>\n      <td>0.559107</td>\n      <td>0.072203</td>\n      <td>-0.002384</td>\n      <td>-0.058234</td>\n      <td>124.610001</td>\n      <td>0.628926</td>\n    </tr>\n    <tr>\n      <th>FB</th>\n      <td>0.417490</td>\n      <td>0.183291</td>\n      <td>0.269228</td>\n      <td>0.019065</td>\n      <td>328.730011</td>\n      <td>0.870008</td>\n    </tr>\n    <tr>\n      <th>GOOGL</th>\n      <td>0.642553</td>\n      <td>0.318872</td>\n      <td>0.141619</td>\n      <td>0.005877</td>\n      <td>2356.850098</td>\n      <td>1.103044</td>\n    </tr>\n    <tr>\n      <th>TSLA</th>\n      <td>2.480793</td>\n      <td>0.067365</td>\n      <td>-0.089185</td>\n      <td>-0.087137</td>\n      <td>625.219971</td>\n      <td>2.458973</td>\n    </tr>\n  </tbody>\n</table>\n</div>"
     },
     "metadata": {},
     "execution_count": 6
    }
   ],
   "source": [
    "# calculating a rolling average or sorts\n",
    "value_df['Sum Changes'] = value_df.iloc[:,0:3].sum(axis=1)\n",
    "value_df.sort_values(by='Sum Changes')"
   ]
  },
  {
   "cell_type": "code",
   "execution_count": null,
   "metadata": {},
   "outputs": [],
   "source": []
  }
 ]
}