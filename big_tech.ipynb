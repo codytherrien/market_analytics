{
 "metadata": {
  "language_info": {
   "codemirror_mode": {
    "name": "ipython",
    "version": 3
   },
   "file_extension": ".py",
   "mimetype": "text/x-python",
   "name": "python",
   "nbconvert_exporter": "python",
   "pygments_lexer": "ipython3",
   "version": "3.9.4"
  },
  "orig_nbformat": 2,
  "kernelspec": {
   "name": "python394jvsc74a57bd086ecd5a7f372b50973b73dfc5ddb43619aa326d99d12514e7c55a30c0e82c9c5",
   "display_name": "Python 3.9.4 64-bit"
  },
  "metadata": {
   "interpreter": {
    "hash": "86ecd5a7f372b50973b73dfc5ddb43619aa326d99d12514e7c55a30c0e82c9c5"
   }
  }
 },
 "nbformat": 4,
 "nbformat_minor": 2,
 "cells": [
  {
   "source": [
    "# Simple Stock Perfomance for big tech stocks"
   ],
   "cell_type": "markdown",
   "metadata": {}
  },
  {
   "cell_type": "code",
   "execution_count": 1,
   "metadata": {},
   "outputs": [],
   "source": [
    "import yfinance as yf\n",
    "import pandas as pd\n",
    "import datetime"
   ]
  },
  {
   "cell_type": "code",
   "execution_count": 2,
   "metadata": {},
   "outputs": [
    {
     "output_type": "execute_result",
     "data": {
      "text/plain": [
       "'2020-05-23'"
      ]
     },
     "metadata": {},
     "execution_count": 2
    }
   ],
   "source": [
    "# List of stocks compaired\n",
    "stock_list = ['AAPL', 'GOOGL', 'AMZN', 'FB', 'TSLA', 'MSFT']\n",
    "\n",
    "# Finds date one year ago to pull data from yfinance\n",
    "last_year = (datetime.datetime.today() - datetime.timedelta(days=365)).strftime('%Y-%m-%d')\n",
    "last_year"
   ]
  },
  {
   "cell_type": "code",
   "execution_count": 3,
   "metadata": {},
   "outputs": [
    {
     "output_type": "execute_result",
     "data": {
      "text/plain": [
       "                  AAPL        GOOGL         AMZN          FB        TSLA  \\\n",
       "Date                                                                       \n",
       "2020-05-26   78.652542  1421.369995  2421.860107  232.199997  163.774002   \n",
       "2020-05-27   78.995224  1420.280029  2410.389893  229.139999  164.046005   \n",
       "2020-05-28   79.029984  1418.239990  2401.100098  225.460007  161.162003   \n",
       "2020-05-29   78.953018  1433.520020  2442.370117  225.089996  167.000000   \n",
       "2020-06-01   79.923965  1434.869995  2471.040039  231.910004  179.619995   \n",
       "...                ...          ...          ...         ...         ...   \n",
       "2021-05-17  126.269997  2288.919922  3270.389893  315.459991  576.830017   \n",
       "2021-05-18  124.849998  2262.469971  3232.280029  309.959991  577.869995   \n",
       "2021-05-19  124.690002  2271.500000  3231.800049  313.589996  563.460022   \n",
       "2021-05-20  127.309998  2306.949951  3247.679932  318.609985  586.780029   \n",
       "2021-05-21  125.430000  2294.129883  3203.080078  316.230011  580.880005   \n",
       "\n",
       "                  MSFT  \n",
       "Date                    \n",
       "2020-05-26  179.828796  \n",
       "2020-05-27  180.066498  \n",
       "2020-05-28  179.660416  \n",
       "2020-05-29  181.492691  \n",
       "2020-06-01  181.076721  \n",
       "...                ...  \n",
       "2021-05-17  244.615158  \n",
       "2021-05-18  242.520004  \n",
       "2021-05-19  243.119995  \n",
       "2021-05-20  246.479996  \n",
       "2021-05-21  245.169998  \n",
       "\n",
       "[251 rows x 6 columns]"
      ],
      "text/html": "<div>\n<style scoped>\n    .dataframe tbody tr th:only-of-type {\n        vertical-align: middle;\n    }\n\n    .dataframe tbody tr th {\n        vertical-align: top;\n    }\n\n    .dataframe thead th {\n        text-align: right;\n    }\n</style>\n<table border=\"1\" class=\"dataframe\">\n  <thead>\n    <tr style=\"text-align: right;\">\n      <th></th>\n      <th>AAPL</th>\n      <th>GOOGL</th>\n      <th>AMZN</th>\n      <th>FB</th>\n      <th>TSLA</th>\n      <th>MSFT</th>\n    </tr>\n    <tr>\n      <th>Date</th>\n      <th></th>\n      <th></th>\n      <th></th>\n      <th></th>\n      <th></th>\n      <th></th>\n    </tr>\n  </thead>\n  <tbody>\n    <tr>\n      <th>2020-05-26</th>\n      <td>78.652542</td>\n      <td>1421.369995</td>\n      <td>2421.860107</td>\n      <td>232.199997</td>\n      <td>163.774002</td>\n      <td>179.828796</td>\n    </tr>\n    <tr>\n      <th>2020-05-27</th>\n      <td>78.995224</td>\n      <td>1420.280029</td>\n      <td>2410.389893</td>\n      <td>229.139999</td>\n      <td>164.046005</td>\n      <td>180.066498</td>\n    </tr>\n    <tr>\n      <th>2020-05-28</th>\n      <td>79.029984</td>\n      <td>1418.239990</td>\n      <td>2401.100098</td>\n      <td>225.460007</td>\n      <td>161.162003</td>\n      <td>179.660416</td>\n    </tr>\n    <tr>\n      <th>2020-05-29</th>\n      <td>78.953018</td>\n      <td>1433.520020</td>\n      <td>2442.370117</td>\n      <td>225.089996</td>\n      <td>167.000000</td>\n      <td>181.492691</td>\n    </tr>\n    <tr>\n      <th>2020-06-01</th>\n      <td>79.923965</td>\n      <td>1434.869995</td>\n      <td>2471.040039</td>\n      <td>231.910004</td>\n      <td>179.619995</td>\n      <td>181.076721</td>\n    </tr>\n    <tr>\n      <th>...</th>\n      <td>...</td>\n      <td>...</td>\n      <td>...</td>\n      <td>...</td>\n      <td>...</td>\n      <td>...</td>\n    </tr>\n    <tr>\n      <th>2021-05-17</th>\n      <td>126.269997</td>\n      <td>2288.919922</td>\n      <td>3270.389893</td>\n      <td>315.459991</td>\n      <td>576.830017</td>\n      <td>244.615158</td>\n    </tr>\n    <tr>\n      <th>2021-05-18</th>\n      <td>124.849998</td>\n      <td>2262.469971</td>\n      <td>3232.280029</td>\n      <td>309.959991</td>\n      <td>577.869995</td>\n      <td>242.520004</td>\n    </tr>\n    <tr>\n      <th>2021-05-19</th>\n      <td>124.690002</td>\n      <td>2271.500000</td>\n      <td>3231.800049</td>\n      <td>313.589996</td>\n      <td>563.460022</td>\n      <td>243.119995</td>\n    </tr>\n    <tr>\n      <th>2021-05-20</th>\n      <td>127.309998</td>\n      <td>2306.949951</td>\n      <td>3247.679932</td>\n      <td>318.609985</td>\n      <td>586.780029</td>\n      <td>246.479996</td>\n    </tr>\n    <tr>\n      <th>2021-05-21</th>\n      <td>125.430000</td>\n      <td>2294.129883</td>\n      <td>3203.080078</td>\n      <td>316.230011</td>\n      <td>580.880005</td>\n      <td>245.169998</td>\n    </tr>\n  </tbody>\n</table>\n<p>251 rows × 6 columns</p>\n</div>"
     },
     "metadata": {},
     "execution_count": 3
    }
   ],
   "source": [
    "stock_dfs = {}\n",
    "value_df = None\n",
    "# Pulling stocks from yfinance and storing closing values in value_df\n",
    "for stock in stock_list:\n",
    "    stock_dfs[stock] = yf.Ticker(stock).history(start=last_year)\n",
    "    stock_dfs[stock].rename(columns={'Close': stock}, inplace=True)\n",
    "    if value_df is None:\n",
    "        value_df = pd.DataFrame(data=stock_dfs[stock][stock])\n",
    "    else:\n",
    "        value_df[stock] = stock_dfs[stock][stock]\n",
    "value_df"
   ]
  },
  {
   "cell_type": "code",
   "execution_count": 4,
   "metadata": {},
   "outputs": [
    {
     "output_type": "execute_result",
     "data": {
      "text/plain": [
       "Date    2020-05-26   2020-11-19   2021-02-23   2021-04-26   2021-05-21\n",
       "AAPL     78.652542   118.262108   125.646584   134.491562   125.430000\n",
       "GOOGL  1421.369995  1758.569946  2060.120117  2309.929932  2294.129883\n",
       "AMZN   2421.860107  3117.020020  3194.500000  3409.000000  3203.080078\n",
       "FB      232.199997   272.940002   265.859985   303.040009   316.230011\n",
       "TSLA    163.774002   499.269989   698.840027   738.200012   580.880005\n",
       "MSFT    179.828796   211.443649   232.732605   260.947449   245.169998"
      ],
      "text/html": "<div>\n<style scoped>\n    .dataframe tbody tr th:only-of-type {\n        vertical-align: middle;\n    }\n\n    .dataframe tbody tr th {\n        vertical-align: top;\n    }\n\n    .dataframe thead th {\n        text-align: right;\n    }\n</style>\n<table border=\"1\" class=\"dataframe\">\n  <thead>\n    <tr style=\"text-align: right;\">\n      <th>Date</th>\n      <th>2020-05-26</th>\n      <th>2020-11-19</th>\n      <th>2021-02-23</th>\n      <th>2021-04-26</th>\n      <th>2021-05-21</th>\n    </tr>\n  </thead>\n  <tbody>\n    <tr>\n      <th>AAPL</th>\n      <td>78.652542</td>\n      <td>118.262108</td>\n      <td>125.646584</td>\n      <td>134.491562</td>\n      <td>125.430000</td>\n    </tr>\n    <tr>\n      <th>GOOGL</th>\n      <td>1421.369995</td>\n      <td>1758.569946</td>\n      <td>2060.120117</td>\n      <td>2309.929932</td>\n      <td>2294.129883</td>\n    </tr>\n    <tr>\n      <th>AMZN</th>\n      <td>2421.860107</td>\n      <td>3117.020020</td>\n      <td>3194.500000</td>\n      <td>3409.000000</td>\n      <td>3203.080078</td>\n    </tr>\n    <tr>\n      <th>FB</th>\n      <td>232.199997</td>\n      <td>272.940002</td>\n      <td>265.859985</td>\n      <td>303.040009</td>\n      <td>316.230011</td>\n    </tr>\n    <tr>\n      <th>TSLA</th>\n      <td>163.774002</td>\n      <td>499.269989</td>\n      <td>698.840027</td>\n      <td>738.200012</td>\n      <td>580.880005</td>\n    </tr>\n    <tr>\n      <th>MSFT</th>\n      <td>179.828796</td>\n      <td>211.443649</td>\n      <td>232.732605</td>\n      <td>260.947449</td>\n      <td>245.169998</td>\n    </tr>\n  </tbody>\n</table>\n</div>"
     },
     "metadata": {},
     "execution_count": 4
    }
   ],
   "source": [
    "# only keeping values from 1 year ago, 6 months ago, 1 quarter ago, and 1 month ago\n",
    "value_df = value_df.iloc[[\n",
    "    0, \n",
    "    len(value_df)//2, \n",
    "    3*len(value_df)//4,\n",
    "    -20,\n",
    "    -1\n",
    "]]\n",
    "value_df = value_df.T\n",
    "value_df"
   ]
  },
  {
   "cell_type": "code",
   "execution_count": 5,
   "metadata": {},
   "outputs": [
    {
     "output_type": "execute_result",
     "data": {
      "text/plain": [
       "Date   2020-05-26  2020-11-19  2021-02-23  2021-04-26   2021-05-21\n",
       "AAPL     0.594735    0.060610   -0.001724   -0.067376   125.430000\n",
       "GOOGL    0.614027    0.304543    0.113590   -0.006840  2294.129883\n",
       "AMZN     0.322570    0.027610    0.002686   -0.060405  3203.080078\n",
       "FB       0.361886    0.158606    0.189461    0.043526   316.230011\n",
       "TSLA     2.546839    0.163459   -0.168794   -0.213113   580.880005\n",
       "MSFT     0.363352    0.159505    0.053441   -0.060462   245.169998"
      ],
      "text/html": "<div>\n<style scoped>\n    .dataframe tbody tr th:only-of-type {\n        vertical-align: middle;\n    }\n\n    .dataframe tbody tr th {\n        vertical-align: top;\n    }\n\n    .dataframe thead th {\n        text-align: right;\n    }\n</style>\n<table border=\"1\" class=\"dataframe\">\n  <thead>\n    <tr style=\"text-align: right;\">\n      <th>Date</th>\n      <th>2020-05-26</th>\n      <th>2020-11-19</th>\n      <th>2021-02-23</th>\n      <th>2021-04-26</th>\n      <th>2021-05-21</th>\n    </tr>\n  </thead>\n  <tbody>\n    <tr>\n      <th>AAPL</th>\n      <td>0.594735</td>\n      <td>0.060610</td>\n      <td>-0.001724</td>\n      <td>-0.067376</td>\n      <td>125.430000</td>\n    </tr>\n    <tr>\n      <th>GOOGL</th>\n      <td>0.614027</td>\n      <td>0.304543</td>\n      <td>0.113590</td>\n      <td>-0.006840</td>\n      <td>2294.129883</td>\n    </tr>\n    <tr>\n      <th>AMZN</th>\n      <td>0.322570</td>\n      <td>0.027610</td>\n      <td>0.002686</td>\n      <td>-0.060405</td>\n      <td>3203.080078</td>\n    </tr>\n    <tr>\n      <th>FB</th>\n      <td>0.361886</td>\n      <td>0.158606</td>\n      <td>0.189461</td>\n      <td>0.043526</td>\n      <td>316.230011</td>\n    </tr>\n    <tr>\n      <th>TSLA</th>\n      <td>2.546839</td>\n      <td>0.163459</td>\n      <td>-0.168794</td>\n      <td>-0.213113</td>\n      <td>580.880005</td>\n    </tr>\n    <tr>\n      <th>MSFT</th>\n      <td>0.363352</td>\n      <td>0.159505</td>\n      <td>0.053441</td>\n      <td>-0.060462</td>\n      <td>245.169998</td>\n    </tr>\n  </tbody>\n</table>\n</div>"
     },
     "metadata": {},
     "execution_count": 5
    }
   ],
   "source": [
    "for i in range(4):\n",
    "    value_df.iloc[:,i] = (value_df.iloc[:,4] / value_df.iloc[:,i]) - 1\n",
    "value_df"
   ]
  },
  {
   "cell_type": "code",
   "execution_count": 7,
   "metadata": {},
   "outputs": [
    {
     "output_type": "execute_result",
     "data": {
      "text/plain": [
       "Date   2020-05-26 00:00:00  2020-11-19 00:00:00  2021-02-23 00:00:00  \\\n",
       "AMZN              0.322570             0.027610             0.002686   \n",
       "MSFT              0.363352             0.159505             0.053441   \n",
       "AAPL              0.594735             0.060610            -0.001724   \n",
       "FB                0.361886             0.158606             0.189461   \n",
       "GOOGL             0.614027             0.304543             0.113590   \n",
       "TSLA              2.546839             0.163459            -0.168794   \n",
       "\n",
       "Date   2021-04-26 00:00:00  2021-05-21 00:00:00  Sum changes  Sum Changes  \n",
       "AMZN             -0.060405          3203.080078     0.352866     0.352866  \n",
       "MSFT             -0.060462           245.169998     0.576298     0.576298  \n",
       "AAPL             -0.067376           125.430000     0.653622     0.653622  \n",
       "FB                0.043526           316.230011     0.709953     0.709953  \n",
       "GOOGL            -0.006840          2294.129883     1.032160     1.032160  \n",
       "TSLA             -0.213113           580.880005     2.541504     2.541504  "
      ],
      "text/html": "<div>\n<style scoped>\n    .dataframe tbody tr th:only-of-type {\n        vertical-align: middle;\n    }\n\n    .dataframe tbody tr th {\n        vertical-align: top;\n    }\n\n    .dataframe thead th {\n        text-align: right;\n    }\n</style>\n<table border=\"1\" class=\"dataframe\">\n  <thead>\n    <tr style=\"text-align: right;\">\n      <th>Date</th>\n      <th>2020-05-26 00:00:00</th>\n      <th>2020-11-19 00:00:00</th>\n      <th>2021-02-23 00:00:00</th>\n      <th>2021-04-26 00:00:00</th>\n      <th>2021-05-21 00:00:00</th>\n      <th>Sum changes</th>\n      <th>Sum Changes</th>\n    </tr>\n  </thead>\n  <tbody>\n    <tr>\n      <th>AMZN</th>\n      <td>0.322570</td>\n      <td>0.027610</td>\n      <td>0.002686</td>\n      <td>-0.060405</td>\n      <td>3203.080078</td>\n      <td>0.352866</td>\n      <td>0.352866</td>\n    </tr>\n    <tr>\n      <th>MSFT</th>\n      <td>0.363352</td>\n      <td>0.159505</td>\n      <td>0.053441</td>\n      <td>-0.060462</td>\n      <td>245.169998</td>\n      <td>0.576298</td>\n      <td>0.576298</td>\n    </tr>\n    <tr>\n      <th>AAPL</th>\n      <td>0.594735</td>\n      <td>0.060610</td>\n      <td>-0.001724</td>\n      <td>-0.067376</td>\n      <td>125.430000</td>\n      <td>0.653622</td>\n      <td>0.653622</td>\n    </tr>\n    <tr>\n      <th>FB</th>\n      <td>0.361886</td>\n      <td>0.158606</td>\n      <td>0.189461</td>\n      <td>0.043526</td>\n      <td>316.230011</td>\n      <td>0.709953</td>\n      <td>0.709953</td>\n    </tr>\n    <tr>\n      <th>GOOGL</th>\n      <td>0.614027</td>\n      <td>0.304543</td>\n      <td>0.113590</td>\n      <td>-0.006840</td>\n      <td>2294.129883</td>\n      <td>1.032160</td>\n      <td>1.032160</td>\n    </tr>\n    <tr>\n      <th>TSLA</th>\n      <td>2.546839</td>\n      <td>0.163459</td>\n      <td>-0.168794</td>\n      <td>-0.213113</td>\n      <td>580.880005</td>\n      <td>2.541504</td>\n      <td>2.541504</td>\n    </tr>\n  </tbody>\n</table>\n</div>"
     },
     "metadata": {},
     "execution_count": 7
    }
   ],
   "source": [
    "# calculating a rolling average or sorts\n",
    "value_df['Sum Changes'] = value_df.iloc[:,0:3].sum(axis=1)\n",
    "value_df.sort_values(by='Sum Changes')"
   ]
  },
  {
   "cell_type": "code",
   "execution_count": null,
   "metadata": {},
   "outputs": [],
   "source": []
  }
 ]
}