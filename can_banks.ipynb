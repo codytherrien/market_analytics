{
 "metadata": {
  "language_info": {
   "codemirror_mode": {
    "name": "ipython",
    "version": 3
   },
   "file_extension": ".py",
   "mimetype": "text/x-python",
   "name": "python",
   "nbconvert_exporter": "python",
   "pygments_lexer": "ipython3",
   "version": "3.9.4"
  },
  "orig_nbformat": 2,
  "kernelspec": {
   "name": "python394jvsc74a57bd086ecd5a7f372b50973b73dfc5ddb43619aa326d99d12514e7c55a30c0e82c9c5",
   "display_name": "Python 3.9.4 64-bit"
  },
  "metadata": {
   "interpreter": {
    "hash": "86ecd5a7f372b50973b73dfc5ddb43619aa326d99d12514e7c55a30c0e82c9c5"
   }
  }
 },
 "nbformat": 4,
 "nbformat_minor": 2,
 "cells": [
  {
   "source": [
    "# Simple Stock Perfomance for canadian bank stocks stocks"
   ],
   "cell_type": "markdown",
   "metadata": {}
  },
  {
   "cell_type": "code",
   "execution_count": 1,
   "metadata": {},
   "outputs": [],
   "source": [
    "import yfinance as yf\n",
    "import pandas as pd\n",
    "import datetime"
   ]
  },
  {
   "cell_type": "code",
   "execution_count": 2,
   "metadata": {},
   "outputs": [
    {
     "output_type": "execute_result",
     "data": {
      "text/plain": [
       "'2020-05-23'"
      ]
     },
     "metadata": {},
     "execution_count": 2
    }
   ],
   "source": [
    "# List of stocks compaired\n",
    "stock_list = ['CM', 'RY', 'BNS', 'BMO', 'TD']\n",
    "\n",
    "# Finds date one year ago to pull data from yfinance\n",
    "last_year = (datetime.datetime.today() - datetime.timedelta(days=365)).strftime('%Y-%m-%d')\n",
    "last_year"
   ]
  },
  {
   "cell_type": "code",
   "execution_count": 3,
   "metadata": {},
   "outputs": [
    {
     "output_type": "execute_result",
     "data": {
      "text/plain": [
       "                    CM          RY        BNS         BMO         TD\n",
       "Date                                                                \n",
       "2020-05-26   60.252251   61.157032  38.211990   48.396980  41.414734\n",
       "2020-05-27   62.864506   64.215843  39.817936   49.274502  43.391865\n",
       "2020-05-28   61.757133   63.525452  39.298363   48.005917  41.729927\n",
       "2020-05-29   60.507797   62.183025  37.805782   47.033016  40.879856\n",
       "2020-06-01   63.385067   64.570618  39.128323   48.520981  42.264805\n",
       "...                ...         ...        ...         ...        ...\n",
       "2021-05-17  110.440002  101.269997  66.300003  100.709999  73.260002\n",
       "2021-05-18  110.489998  101.889999  65.900002  101.339996  73.139999\n",
       "2021-05-19  110.370003  101.330002  65.389999  100.669998  72.260002\n",
       "2021-05-20  111.379997  101.970001  65.559998  102.129997  72.889999\n",
       "2021-05-21  112.250000  102.389999  65.529999  102.739998  73.029999\n",
       "\n",
       "[251 rows x 5 columns]"
      ],
      "text/html": "<div>\n<style scoped>\n    .dataframe tbody tr th:only-of-type {\n        vertical-align: middle;\n    }\n\n    .dataframe tbody tr th {\n        vertical-align: top;\n    }\n\n    .dataframe thead th {\n        text-align: right;\n    }\n</style>\n<table border=\"1\" class=\"dataframe\">\n  <thead>\n    <tr style=\"text-align: right;\">\n      <th></th>\n      <th>CM</th>\n      <th>RY</th>\n      <th>BNS</th>\n      <th>BMO</th>\n      <th>TD</th>\n    </tr>\n    <tr>\n      <th>Date</th>\n      <th></th>\n      <th></th>\n      <th></th>\n      <th></th>\n      <th></th>\n    </tr>\n  </thead>\n  <tbody>\n    <tr>\n      <th>2020-05-26</th>\n      <td>60.252251</td>\n      <td>61.157032</td>\n      <td>38.211990</td>\n      <td>48.396980</td>\n      <td>41.414734</td>\n    </tr>\n    <tr>\n      <th>2020-05-27</th>\n      <td>62.864506</td>\n      <td>64.215843</td>\n      <td>39.817936</td>\n      <td>49.274502</td>\n      <td>43.391865</td>\n    </tr>\n    <tr>\n      <th>2020-05-28</th>\n      <td>61.757133</td>\n      <td>63.525452</td>\n      <td>39.298363</td>\n      <td>48.005917</td>\n      <td>41.729927</td>\n    </tr>\n    <tr>\n      <th>2020-05-29</th>\n      <td>60.507797</td>\n      <td>62.183025</td>\n      <td>37.805782</td>\n      <td>47.033016</td>\n      <td>40.879856</td>\n    </tr>\n    <tr>\n      <th>2020-06-01</th>\n      <td>63.385067</td>\n      <td>64.570618</td>\n      <td>39.128323</td>\n      <td>48.520981</td>\n      <td>42.264805</td>\n    </tr>\n    <tr>\n      <th>...</th>\n      <td>...</td>\n      <td>...</td>\n      <td>...</td>\n      <td>...</td>\n      <td>...</td>\n    </tr>\n    <tr>\n      <th>2021-05-17</th>\n      <td>110.440002</td>\n      <td>101.269997</td>\n      <td>66.300003</td>\n      <td>100.709999</td>\n      <td>73.260002</td>\n    </tr>\n    <tr>\n      <th>2021-05-18</th>\n      <td>110.489998</td>\n      <td>101.889999</td>\n      <td>65.900002</td>\n      <td>101.339996</td>\n      <td>73.139999</td>\n    </tr>\n    <tr>\n      <th>2021-05-19</th>\n      <td>110.370003</td>\n      <td>101.330002</td>\n      <td>65.389999</td>\n      <td>100.669998</td>\n      <td>72.260002</td>\n    </tr>\n    <tr>\n      <th>2021-05-20</th>\n      <td>111.379997</td>\n      <td>101.970001</td>\n      <td>65.559998</td>\n      <td>102.129997</td>\n      <td>72.889999</td>\n    </tr>\n    <tr>\n      <th>2021-05-21</th>\n      <td>112.250000</td>\n      <td>102.389999</td>\n      <td>65.529999</td>\n      <td>102.739998</td>\n      <td>73.029999</td>\n    </tr>\n  </tbody>\n</table>\n<p>251 rows × 5 columns</p>\n</div>"
     },
     "metadata": {},
     "execution_count": 3
    }
   ],
   "source": [
    "stock_dfs = {}\n",
    "value_df = None\n",
    "# Pulling stocks from yfinance and storing closing values in value_df\n",
    "for stock in stock_list:\n",
    "    stock_dfs[stock] = yf.Ticker(stock).history(start=last_year)\n",
    "    stock_dfs[stock].rename(columns={'Close': stock}, inplace=True)\n",
    "    if value_df is None:\n",
    "        value_df = pd.DataFrame(data=stock_dfs[stock][stock])\n",
    "    else:\n",
    "        value_df[stock] = stock_dfs[stock][stock]\n",
    "value_df"
   ]
  },
  {
   "cell_type": "code",
   "execution_count": 4,
   "metadata": {},
   "outputs": [
    {
     "output_type": "execute_result",
     "data": {
      "text/plain": [
       "Date  2020-05-26  2020-11-19  2021-02-23  2021-04-26  2021-05-21\n",
       "CM     60.252251   81.755814   91.334801  102.279999  112.250000\n",
       "RY     61.157032   78.157166   88.066086   94.190002  102.389999\n",
       "BNS    38.211990   47.106396   58.210293   62.930000   65.529999\n",
       "BMO    48.396980   69.286514   82.627151   93.319725  102.739998\n",
       "TD     41.414734   51.443253   61.414864   67.919998   73.029999"
      ],
      "text/html": "<div>\n<style scoped>\n    .dataframe tbody tr th:only-of-type {\n        vertical-align: middle;\n    }\n\n    .dataframe tbody tr th {\n        vertical-align: top;\n    }\n\n    .dataframe thead th {\n        text-align: right;\n    }\n</style>\n<table border=\"1\" class=\"dataframe\">\n  <thead>\n    <tr style=\"text-align: right;\">\n      <th>Date</th>\n      <th>2020-05-26</th>\n      <th>2020-11-19</th>\n      <th>2021-02-23</th>\n      <th>2021-04-26</th>\n      <th>2021-05-21</th>\n    </tr>\n  </thead>\n  <tbody>\n    <tr>\n      <th>CM</th>\n      <td>60.252251</td>\n      <td>81.755814</td>\n      <td>91.334801</td>\n      <td>102.279999</td>\n      <td>112.250000</td>\n    </tr>\n    <tr>\n      <th>RY</th>\n      <td>61.157032</td>\n      <td>78.157166</td>\n      <td>88.066086</td>\n      <td>94.190002</td>\n      <td>102.389999</td>\n    </tr>\n    <tr>\n      <th>BNS</th>\n      <td>38.211990</td>\n      <td>47.106396</td>\n      <td>58.210293</td>\n      <td>62.930000</td>\n      <td>65.529999</td>\n    </tr>\n    <tr>\n      <th>BMO</th>\n      <td>48.396980</td>\n      <td>69.286514</td>\n      <td>82.627151</td>\n      <td>93.319725</td>\n      <td>102.739998</td>\n    </tr>\n    <tr>\n      <th>TD</th>\n      <td>41.414734</td>\n      <td>51.443253</td>\n      <td>61.414864</td>\n      <td>67.919998</td>\n      <td>73.029999</td>\n    </tr>\n  </tbody>\n</table>\n</div>"
     },
     "metadata": {},
     "execution_count": 4
    }
   ],
   "source": [
    "# only keeping values from 1 year ago, 6 months ago, 1 quarter ago, and 1 month ago\n",
    "value_df = value_df.iloc[[\n",
    "    0, \n",
    "    len(value_df)//2, \n",
    "    3*len(value_df)//4,\n",
    "    -20,\n",
    "    -1\n",
    "]]\n",
    "value_df = value_df.T\n",
    "value_df"
   ]
  },
  {
   "cell_type": "code",
   "execution_count": 5,
   "metadata": {},
   "outputs": [
    {
     "output_type": "execute_result",
     "data": {
      "text/plain": [
       "Date  2020-05-26  2020-11-19  2021-02-23  2021-04-26  2021-05-21\n",
       "CM      0.863001    0.372991    0.228995    0.097478  112.250000\n",
       "RY      0.674215    0.310053    0.162650    0.087058  102.389999\n",
       "BNS     0.714907    0.391106    0.125746    0.041316   65.529999\n",
       "BMO     1.122860    0.482828    0.243417    0.100946  102.739998\n",
       "TD      0.763382    0.419622    0.189126    0.075236   73.029999"
      ],
      "text/html": "<div>\n<style scoped>\n    .dataframe tbody tr th:only-of-type {\n        vertical-align: middle;\n    }\n\n    .dataframe tbody tr th {\n        vertical-align: top;\n    }\n\n    .dataframe thead th {\n        text-align: right;\n    }\n</style>\n<table border=\"1\" class=\"dataframe\">\n  <thead>\n    <tr style=\"text-align: right;\">\n      <th>Date</th>\n      <th>2020-05-26</th>\n      <th>2020-11-19</th>\n      <th>2021-02-23</th>\n      <th>2021-04-26</th>\n      <th>2021-05-21</th>\n    </tr>\n  </thead>\n  <tbody>\n    <tr>\n      <th>CM</th>\n      <td>0.863001</td>\n      <td>0.372991</td>\n      <td>0.228995</td>\n      <td>0.097478</td>\n      <td>112.250000</td>\n    </tr>\n    <tr>\n      <th>RY</th>\n      <td>0.674215</td>\n      <td>0.310053</td>\n      <td>0.162650</td>\n      <td>0.087058</td>\n      <td>102.389999</td>\n    </tr>\n    <tr>\n      <th>BNS</th>\n      <td>0.714907</td>\n      <td>0.391106</td>\n      <td>0.125746</td>\n      <td>0.041316</td>\n      <td>65.529999</td>\n    </tr>\n    <tr>\n      <th>BMO</th>\n      <td>1.122860</td>\n      <td>0.482828</td>\n      <td>0.243417</td>\n      <td>0.100946</td>\n      <td>102.739998</td>\n    </tr>\n    <tr>\n      <th>TD</th>\n      <td>0.763382</td>\n      <td>0.419622</td>\n      <td>0.189126</td>\n      <td>0.075236</td>\n      <td>73.029999</td>\n    </tr>\n  </tbody>\n</table>\n</div>"
     },
     "metadata": {},
     "execution_count": 5
    }
   ],
   "source": [
    "# Changing to Percent change\n",
    "for i in range(4):\n",
    "    value_df.iloc[:,i] = (value_df.iloc[:,4] / value_df.iloc[:,i]) - 1\n",
    "value_df"
   ]
  },
  {
   "cell_type": "code",
   "execution_count": 6,
   "metadata": {},
   "outputs": [
    {
     "output_type": "execute_result",
     "data": {
      "text/plain": [
       "Date  2020-05-26 00:00:00  2020-11-19 00:00:00  2021-02-23 00:00:00  \\\n",
       "RY               0.674215             0.310053             0.162650   \n",
       "BNS              0.714907             0.391106             0.125746   \n",
       "TD               0.763382             0.419622             0.189126   \n",
       "CM               0.863001             0.372991             0.228995   \n",
       "BMO              1.122860             0.482828             0.243417   \n",
       "\n",
       "Date  2021-04-26 00:00:00  2021-05-21 00:00:00  Sum Changes  \n",
       "RY               0.087058           102.389999     1.146917  \n",
       "BNS              0.041316            65.529999     1.231759  \n",
       "TD               0.075236            73.029999     1.372130  \n",
       "CM               0.097478           112.250000     1.464987  \n",
       "BMO              0.100946           102.739998     1.849105  "
      ],
      "text/html": "<div>\n<style scoped>\n    .dataframe tbody tr th:only-of-type {\n        vertical-align: middle;\n    }\n\n    .dataframe tbody tr th {\n        vertical-align: top;\n    }\n\n    .dataframe thead th {\n        text-align: right;\n    }\n</style>\n<table border=\"1\" class=\"dataframe\">\n  <thead>\n    <tr style=\"text-align: right;\">\n      <th>Date</th>\n      <th>2020-05-26 00:00:00</th>\n      <th>2020-11-19 00:00:00</th>\n      <th>2021-02-23 00:00:00</th>\n      <th>2021-04-26 00:00:00</th>\n      <th>2021-05-21 00:00:00</th>\n      <th>Sum Changes</th>\n    </tr>\n  </thead>\n  <tbody>\n    <tr>\n      <th>RY</th>\n      <td>0.674215</td>\n      <td>0.310053</td>\n      <td>0.162650</td>\n      <td>0.087058</td>\n      <td>102.389999</td>\n      <td>1.146917</td>\n    </tr>\n    <tr>\n      <th>BNS</th>\n      <td>0.714907</td>\n      <td>0.391106</td>\n      <td>0.125746</td>\n      <td>0.041316</td>\n      <td>65.529999</td>\n      <td>1.231759</td>\n    </tr>\n    <tr>\n      <th>TD</th>\n      <td>0.763382</td>\n      <td>0.419622</td>\n      <td>0.189126</td>\n      <td>0.075236</td>\n      <td>73.029999</td>\n      <td>1.372130</td>\n    </tr>\n    <tr>\n      <th>CM</th>\n      <td>0.863001</td>\n      <td>0.372991</td>\n      <td>0.228995</td>\n      <td>0.097478</td>\n      <td>112.250000</td>\n      <td>1.464987</td>\n    </tr>\n    <tr>\n      <th>BMO</th>\n      <td>1.122860</td>\n      <td>0.482828</td>\n      <td>0.243417</td>\n      <td>0.100946</td>\n      <td>102.739998</td>\n      <td>1.849105</td>\n    </tr>\n  </tbody>\n</table>\n</div>"
     },
     "metadata": {},
     "execution_count": 6
    }
   ],
   "source": [
    "# calculating a rolling average or sorts\n",
    "value_df['Sum Changes'] = value_df.iloc[:,0:3].sum(axis=1)\n",
    "value_df.sort_values(by='Sum Changes')"
   ]
  },
  {
   "cell_type": "code",
   "execution_count": null,
   "metadata": {},
   "outputs": [],
   "source": []
  }
 ]
}